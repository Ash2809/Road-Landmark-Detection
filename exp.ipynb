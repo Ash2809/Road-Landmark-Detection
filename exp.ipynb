{
 "cells": [
  {
   "cell_type": "code",
   "execution_count": null,
   "metadata": {},
   "outputs": [],
   "source": [
    "import os\n",
    "import shutil\n",
    "import numpy as np\n",
    "from sklearn.model_selection import train_test_split\n",
    "\n",
    "# Paths to your images and masks\n",
    "images_path = r\"C:\\Users\\aashutosh kumar\\Music\\Training\\frames\"\n",
    "masks_path = \"path/to/all_masks\"\n",
    "\n",
    "# Paths for the new dataset structure\n",
    "dataset_path = \"Dataset\"\n",
    "train_path = os.path.join(dataset_path, \"train\")\n",
    "val_path = os.path.join(dataset_path, \"val\")\n",
    "test_path = os.path.join(dataset_path, \"test\")\n",
    "\n",
    "# Create required folders\n",
    "for path in [train_path, val_path, test_path]:\n",
    "    os.makedirs(os.path.join(path, \"images\"), exist_ok=True)\n",
    "    os.makedirs(os.path.join(path, \"masks\"), exist_ok=True)\n",
    "\n",
    "# Get all image and mask filenames\n",
    "image_files = sorted(os.listdir(images_path))\n",
    "mask_files = sorted(os.listdir(masks_path))\n",
    "\n",
    "# Ensure the number of images matches the number of masks\n",
    "assert len(image_files) == len(mask_files), \"Mismatch between images and masks.\"\n",
    "\n",
    "# Split data into train, validation, and test sets\n",
    "train_images, temp_images, train_masks, temp_masks = train_test_split(\n",
    "    image_files, mask_files, test_size=0.3, random_state=42\n",
    ")\n",
    "val_images, test_images, val_masks, test_masks = train_test_split(\n",
    "    temp_images, temp_masks, test_size=0.5, random_state=42\n",
    ")\n",
    "\n",
    "# Function to move files\n",
    "def move_files(files, src_folder, dest_folder):\n",
    "    for file in files:\n",
    "        shutil.copy(os.path.join(src_folder, file), os.path.join(dest_folder, file))\n",
    "\n",
    "# Move training files\n",
    "move_files(train_images, images_path, os.path.join(train_path, \"images\"))\n",
    "move_files(train_masks, masks_path, os.path.join(train_path, \"masks\"))\n",
    "\n",
    "# Move validation files\n",
    "move_files(val_images, images_path, os.path.join(val_path, \"images\"))\n",
    "move_files(val_masks, masks_path, os.path.join(val_path, \"masks\"))\n",
    "\n",
    "# Move test files\n",
    "move_files(test_images, images_path, os.path.join(test_path, \"images\"))\n",
    "move_files(test_masks, masks_path, os.path.join(test_path, \"masks\"))\n",
    "\n",
    "print(\"Dataset organized successfully!\")\n"
   ]
  }
 ],
 "metadata": {
  "kernelspec": {
   "display_name": "tensor",
   "language": "python",
   "name": "python3"
  },
  "language_info": {
   "name": "python",
   "version": "3.9.20"
  }
 },
 "nbformat": 4,
 "nbformat_minor": 2
}
